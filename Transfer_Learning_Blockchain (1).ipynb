{
  "nbformat": 4,
  "nbformat_minor": 0,
  "metadata": {
    "colab": {
      "name": "Transfer Learning Blockchain",
      "version": "0.3.2",
      "provenance": [],
      "collapsed_sections": []
    },
    "kernelspec": {
      "name": "python3",
      "display_name": "Python 3"
    },
    "accelerator": "TPU"
  },
  "cells": [
    {
      "metadata": {
        "id": "ho08nwbPzt7t",
        "colab_type": "code",
        "colab": {
          "base_uri": "https://localhost:8080/",
          "height": 34
        },
        "outputId": "7488b7ee-9810-4eb7-8096-bdeffa392a1a"
      },
      "cell_type": "code",
      "source": [
        "import keras\n",
        "import numpy as np\n",
        "from matplotlib import pyplot as plt\n",
        "import pandas as pd\n",
        "# Useful utilities\n",
        "from keras.utils import np_utils"
      ],
      "execution_count": 1,
      "outputs": [
        {
          "output_type": "stream",
          "text": [
            "Using TensorFlow backend.\n"
          ],
          "name": "stderr"
        }
      ]
    },
    {
      "metadata": {
        "id": "HMCwngfR6MqR",
        "colab_type": "code",
        "colab": {}
      },
      "cell_type": "code",
      "source": [
        "import hashlib as hasher\n",
        "import datetime as date\n",
        "\n",
        "class Block:\n",
        "  def __init__(self, index, dataset, function, model, model_accuracy, previous_hash):\n",
        "    self.index = index # Index in the blockchain\n",
        "    self.timestamp = date.datetime.now()\n",
        "    self.dataset = dataset\n",
        "    self.function = function # The data preprocessing necessary to make the datatset operable.\n",
        "    self.model = model\n",
        "    self.model_accuracy = model_accuracy\n",
        "    self.previous_hash = previous_hash\n",
        "    self.hash = self.hash_block()\n",
        "    \n",
        "  def hash_block(self):\n",
        "    sha = hasher.sha256()\n",
        "    overall_data = str(self.index) + str(self.timestamp) + str(self.model_accuracy) + str(self.previous_hash)\n",
        "    sha.update(overall_data.encode('utf-8'))\n",
        "    return sha.hexdigest()"
      ],
      "execution_count": 0,
      "outputs": []
    },
    {
      "metadata": {
        "id": "WoHZ0dOv7zHK",
        "colab_type": "code",
        "colab": {}
      },
      "cell_type": "code",
      "source": [
        "from keras.datasets import mnist \n",
        "dataset = mnist.load_data()"
      ],
      "execution_count": 0,
      "outputs": []
    },
    {
      "metadata": {
        "id": "e8hk6CTO7WQP",
        "colab_type": "code",
        "colab": {}
      },
      "cell_type": "code",
      "source": [
        "# The first block in a blockchain is called the genesis block.\n",
        "def create_genesis_block(dataset, function):\n",
        "  # Constructs a block with index zero and arbitrary \"previous hash\" parameter.\n",
        "  return Block(0, dataset, function, \"0\", 0, \"0\")"
      ],
      "execution_count": 0,
      "outputs": []
    },
    {
      "metadata": {
        "id": "mQScbmcL8b7W",
        "colab_type": "code",
        "colab": {}
      },
      "cell_type": "code",
      "source": [
        "def preprocessing(dataset):\n",
        "    X_train = dataset[0][0]\n",
        "    Y_train = dataset[0][1]\n",
        "    X_test = dataset[1][0]\n",
        "    Y_test = dataset[1][1]\n",
        "    X_train = X_train.reshape(X_train.shape[0], 28, 28, 1)\n",
        "    X_train = X_train.astype('float32')\n",
        "    X_train /= 255\n",
        "    X_test = X_test.reshape(X_test.shape[0], 28, 28, 1)\n",
        "    X_test = X_test.astype('float32')\n",
        "    X_test /= 255\n",
        "    Y_train = np_utils.to_categorical(Y_train, 10)\n",
        "    Y_test = np_utils.to_categorical(Y_test, 10)\n",
        "    return X_train, Y_train, X_test, Y_test"
      ],
      "execution_count": 0,
      "outputs": []
    },
    {
      "metadata": {
        "id": "Jms4DNpq1BWR",
        "colab_type": "code",
        "colab": {}
      },
      "cell_type": "code",
      "source": [
        "first_block = create_genesis_block(dataset, preprocessing)\n",
        "blockchain = []\n",
        "blockchain.append(first_block)"
      ],
      "execution_count": 0,
      "outputs": []
    },
    {
      "metadata": {
        "id": "4rzQnoBoEyFG",
        "colab_type": "code",
        "colab": {
          "base_uri": "https://localhost:8080/",
          "height": 34
        },
        "outputId": "f814ffaf-3d10-49aa-86bb-5b5184bf1657"
      },
      "cell_type": "code",
      "source": [
        "len(blockchain)"
      ],
      "execution_count": 7,
      "outputs": [
        {
          "output_type": "execute_result",
          "data": {
            "text/plain": [
              "1"
            ]
          },
          "metadata": {
            "tags": []
          },
          "execution_count": 7
        }
      ]
    },
    {
      "metadata": {
        "id": "5mh1M6AQEiHp",
        "colab_type": "code",
        "colab": {}
      },
      "cell_type": "code",
      "source": [
        "def reset_chain(bc):\n",
        "  d = bc[-1].dataset\n",
        "  f = bc[-1].function\n",
        "  bc = []\n",
        "  first_block = create_genesis_block(d, f)\n",
        "  bc.append(first_block)\n",
        "  return bc"
      ],
      "execution_count": 0,
      "outputs": []
    },
    {
      "metadata": {
        "id": "nG6iAH96567_",
        "colab_type": "code",
        "colab": {}
      },
      "cell_type": "code",
      "source": [
        "def new_block(last_block, model, model_accuracy):\n",
        "  this_index = last_block.index + 1\n",
        "  this_dataset = last_block.dataset\n",
        "  this_function = last_block.function\n",
        "  this_model = model\n",
        "  this_model_accuracy = model_accuracy\n",
        "  this_hash = last_block.hash\n",
        "  return Block(this_index, this_dataset, this_function, this_model, this_model_accuracy, this_hash)"
      ],
      "execution_count": 0,
      "outputs": []
    },
    {
      "metadata": {
        "id": "cIKI4VUf1qOp",
        "colab_type": "code",
        "colab": {
          "base_uri": "https://localhost:8080/",
          "height": 51
        },
        "outputId": "ddc0bef8-9c35-4283-c16a-e79783626560"
      },
      "cell_type": "code",
      "source": [
        "# Specify a new filepath if you already have a directory saved to the below name:\n",
        "\n",
        "!pip install -q xlrd\n",
        "!git clone https://github.com/Benendead/MNIST_Notebook MNIST\n",
        "!ls MNIST"
      ],
      "execution_count": 10,
      "outputs": [
        {
          "output_type": "stream",
          "text": [
            "fatal: destination path 'MNIST' already exists and is not an empty directory.\n",
            " 30_epochs  'Keras and CNNs (3).ipynb'\t README.md\n"
          ],
          "name": "stdout"
        }
      ]
    },
    {
      "metadata": {
        "id": "OS5DogIkHrqL",
        "colab_type": "code",
        "colab": {
          "base_uri": "https://localhost:8080/",
          "height": 34
        },
        "outputId": "b2b8a6aa-7da4-433a-98cb-39a879dcdc5b"
      },
      "cell_type": "code",
      "source": [
        "def loadModel(library_path):\n",
        "    \"\"\"\n",
        "    Loads a given Keras model from a filepath.\n",
        "    \"\"\"\n",
        "    loaded_model = keras.models.load_model(library_path)\n",
        "    print(\"Loaded model from path\")\n",
        "    return loaded_model\n",
        "  \n",
        "new_model = loadModel(\"MNIST/30_epochs\")"
      ],
      "execution_count": 11,
      "outputs": [
        {
          "output_type": "stream",
          "text": [
            "Loaded model from path\n"
          ],
          "name": "stdout"
        }
      ]
    },
    {
      "metadata": {
        "id": "jpZaNZEh7U6U",
        "colab_type": "code",
        "colab": {
          "base_uri": "https://localhost:8080/",
          "height": 34
        },
        "outputId": "f28f0430-d77c-4795-ea92-46d62f87b4ac"
      },
      "cell_type": "code",
      "source": [
        "type(new_model)"
      ],
      "execution_count": 12,
      "outputs": [
        {
          "output_type": "execute_result",
          "data": {
            "text/plain": [
              "keras.models.Sequential"
            ]
          },
          "metadata": {
            "tags": []
          },
          "execution_count": 12
        }
      ]
    },
    {
      "metadata": {
        "id": "arbdytA1H3sh",
        "colab_type": "code",
        "colab": {
          "base_uri": "https://localhost:8080/",
          "height": 51
        },
        "outputId": "8c978725-7abb-4ff9-c993-9aa6e02e2aa7"
      },
      "cell_type": "code",
      "source": [
        "# Demonstration of turning hdf5 file into a String.\n",
        "\n",
        "import h5py\n",
        "file_name = \".h5\"\n",
        "new_model.save(file_name)\n",
        "# type(pd.read_hdf(file_name))\n",
        "# file_name = \"/User/jameszhan/Downloads/weights.h5\"\n",
        "file = h5py.File(file_name, \"r\")\n",
        "print(\"Keys: %s\" % file.keys())\n",
        "a_group_key = list(file.keys())[0]\n",
        "data = list(file[a_group_key])\n",
        "file.close()\n",
        "print(\"\\\\\".join(data))\n",
        "s = '\\\\'.join(data)"
      ],
      "execution_count": 13,
      "outputs": [
        {
          "output_type": "stream",
          "text": [
            "Keys: KeysView(<HDF5 file \".h5\" (mode r)>)\n",
            "conv2d_1\\conv2d_2\\conv2d_3\\dense_2\\dense_3\\dropout_1\\dropout_2\\dropout_3\\flatten_1\\max_pooling2d_1\n"
          ],
          "name": "stdout"
        }
      ]
    },
    {
      "metadata": {
        "id": "UeH8B4dW02YV",
        "colab_type": "code",
        "colab": {}
      },
      "cell_type": "code",
      "source": [
        "import h5py\n",
        "\n",
        "def commit_model(model, blockchain):\n",
        "  \"\"\"\n",
        "  Attempts to commit a given Keras model into the blockchain.\n",
        "    \n",
        "  Parameters\n",
        "  ----------\n",
        "  model : Keras model\n",
        "      The model to be uploaded.\n",
        "  blockchain : Blockchain\n",
        "      The blockchain for the model.\n",
        "  \"\"\"\n",
        "  t = type(model)\n",
        "  if(not (t == keras.models.Sequential or t == keras.models.Model)):   # Keras has two types of possible models.\n",
        "    print(\"Model is not a valid Keras model.\")\n",
        "    return\n",
        "      \n",
        "  # First, perform proof of work:\n",
        "  last_block = blockchain[-1]\n",
        "  dataset = last_block.dataset\n",
        "  f = last_block.function\n",
        "  X_train, Y_train, X_test, Y_test = f(dataset)\n",
        "    \n",
        "  score = model.evaluate(X_test, Y_test, verbose = 1)\n",
        "  acc = score[1]\n",
        "  if (acc > last_block.model_accuracy):  \n",
        "      \n",
        "    # Save model to file:\n",
        "    file_name = str(acc) + \".h5\"\n",
        "    model.save(file_name) # Keras handles this for us. \n",
        "    \n",
        "    file = h5py.File(file_name, \"r\")\n",
        "    # print(\"Keys: %s\" % f.keys())\n",
        "    a_group_key = list(file.keys())[0]\n",
        "    data = list(file[a_group_key])\n",
        "    file.close()\n",
        "    \n",
        "    print(\"The model's string:\")\n",
        "    print(\"\\\\\".join(data))\n",
        "    model_s = '\\\\'.join(data)\n",
        "    \n",
        "    block = new_block(last_block, model_s, acc)\n",
        "    \n",
        "    blockchain.append(block)\n",
        "    print(\"Block committed successfully.\")\n",
        "    \n",
        "  else:\n",
        "    print(\"Block could not be committed, did not meet proof of work.\")"
      ],
      "execution_count": 0,
      "outputs": []
    },
    {
      "metadata": {
        "id": "3w4FqR4f-GXK",
        "colab_type": "code",
        "colab": {
          "base_uri": "https://localhost:8080/",
          "height": 85
        },
        "outputId": "234ec101-7c81-4210-93b6-24884946351e"
      },
      "cell_type": "code",
      "source": [
        "blockchain = reset_chain(blockchain)\n",
        "commit_model(new_model, blockchain)"
      ],
      "execution_count": 15,
      "outputs": [
        {
          "output_type": "stream",
          "text": [
            "10000/10000 [==============================] - 6s 611us/step\n",
            "The model's string:\n",
            "conv2d_1\\conv2d_2\\conv2d_3\\dense_2\\dense_3\\dropout_1\\dropout_2\\dropout_3\\flatten_1\\max_pooling2d_1\n",
            "Block committed successfully.\n"
          ],
          "name": "stdout"
        }
      ]
    },
    {
      "metadata": {
        "id": "okQc4pI5Nxwq",
        "colab_type": "code",
        "colab": {
          "base_uri": "https://localhost:8080/",
          "height": 34
        },
        "outputId": "2941e777-4747-4b36-faec-f53fe76d5f5e"
      },
      "cell_type": "code",
      "source": [
        "len(blockchain)"
      ],
      "execution_count": 16,
      "outputs": [
        {
          "output_type": "execute_result",
          "data": {
            "text/plain": [
              "2"
            ]
          },
          "metadata": {
            "tags": []
          },
          "execution_count": 16
        }
      ]
    },
    {
      "metadata": {
        "id": "VR68P49dCWH3",
        "colab_type": "code",
        "colab": {
          "base_uri": "https://localhost:8080/",
          "height": 34
        },
        "outputId": "a1c26869-a1a9-4682-d257-4c3cab886bdd"
      },
      "cell_type": "code",
      "source": [
        "print(blockchain[1].model)"
      ],
      "execution_count": 17,
      "outputs": [
        {
          "output_type": "stream",
          "text": [
            "conv2d_1\\conv2d_2\\conv2d_3\\dense_2\\dense_3\\dropout_1\\dropout_2\\dropout_3\\flatten_1\\max_pooling2d_1\n"
          ],
          "name": "stdout"
        }
      ]
    },
    {
      "metadata": {
        "id": "yXRELmVQ0z0t",
        "colab_type": "code",
        "colab": {}
      },
      "cell_type": "code",
      "source": [
        "def getCurrentBest(blockchain):\n",
        "    \"\"\"\n",
        "    Downloads a given Keras model from the blockchain.\n",
        "    The model is stored as an .h5 file.\n",
        "    \n",
        "    Parameters\n",
        "    ----------\n",
        "    blockchain : Blockchain\n",
        "        The name of the desired model's blockchain.\n",
        "    \"\"\"\n",
        "    \n",
        "    #Load model from blockchain.\n",
        "    loaded_model = blockchain[-1].model\n",
        "    return loaded_model"
      ],
      "execution_count": 0,
      "outputs": []
    },
    {
      "metadata": {
        "id": "huoueLDV9EQQ",
        "colab_type": "code",
        "colab": {
          "base_uri": "https://localhost:8080/",
          "height": 34
        },
        "outputId": "a9ae8a1d-0cad-4f0c-9f91-5fb5fbb38d10"
      },
      "cell_type": "code",
      "source": [
        "model_block = getCurrentBest(blockchain)\n",
        "model_block"
      ],
      "execution_count": 19,
      "outputs": [
        {
          "output_type": "execute_result",
          "data": {
            "text/plain": [
              "'conv2d_1\\\\conv2d_2\\\\conv2d_3\\\\dense_2\\\\dense_3\\\\dropout_1\\\\dropout_2\\\\dropout_3\\\\flatten_1\\\\max_pooling2d_1'"
            ]
          },
          "metadata": {
            "tags": []
          },
          "execution_count": 19
        }
      ]
    }
  ]
}